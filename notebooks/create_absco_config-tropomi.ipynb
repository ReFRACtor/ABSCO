{
 "cells": [
  {
   "cell_type": "code",
   "execution_count": 1,
   "metadata": {},
   "outputs": [],
   "source": [
    "import os\n",
    "from configparser import ConfigParser\n",
    "\n",
    "import numpy as np"
   ]
  },
  {
   "cell_type": "code",
   "execution_count": 2,
   "metadata": {},
   "outputs": [],
   "source": [
    "# Range of tables in wavelengths\n",
    "wavelength_ranges = np.array([ [2295, 2400] ]) # nm\n",
    "\n",
    "# Instrument resolution in wl (nm)\n",
    "# Only needed if computing wavenumber spacing automatically\n",
    "#wl_resolution = 0.25 # nm\n",
    "\n",
    "# Override automatic determination of wavenumber spacing if specified\n",
    "wn_spacing = [ 0.01 ] # cm^-1\n",
    "\n",
    "# desired species\n",
    "molecules = [\"CH4\", \"CO\", \"H2O\"]\n",
    "\n",
    "config_output_directory = \"/tmp/absco_build/tropomi\""
   ]
  },
  {
   "cell_type": "markdown",
   "metadata": {},
   "source": [
    "----"
   ]
  },
  {
   "cell_type": "code",
   "execution_count": 3,
   "metadata": {},
   "outputs": [
    {
     "name": "stdout",
     "output_type": "stream",
     "text": [
      "Using source config file: /tb/sandbox2/mcduffie/refractor/absco/ABSCO_config.ini\n"
     ]
    }
   ],
   "source": [
    "source_config_filename = os.path.realpath(os.path.join(\"..\", \"ABSCO_config.ini\"))\n",
    "\n",
    "print(\"Using source config file:\", source_config_filename)"
   ]
  },
  {
   "cell_type": "markdown",
   "metadata": {},
   "source": [
    "## Compute Ranges and Spacing in Wavenumbers"
   ]
  },
  {
   "cell_type": "code",
   "execution_count": 4,
   "metadata": {},
   "outputs": [
    {
     "name": "stdout",
     "output_type": "stream",
     "text": [
      "Rounding wavenumber ranges:\n",
      "(4166.67, 4357.30) cm^-1 -> (4166.0, 4358.0) cm^-1\n"
     ]
    }
   ],
   "source": [
    "# convert to cm^-1\n",
    "wavenumber_ranges = 1e7 / wavelength_ranges[::-1, ::-1]\n",
    "\n",
    "# Create wavenumber ranges but rounded down and up at the ends\n",
    "print(\"Rounding wavenumber ranges:\")\n",
    "full_spectral_ranges = []\n",
    "for beg_wn, end_wn in wavenumber_ranges:\n",
    "    print(f\"({beg_wn:.2f}, {end_wn:.2f}) cm^-1 -> ({np.floor(beg_wn)}, {np.ceil(end_wn)}) cm^-1\")\n",
    "    full_spectral_ranges.append((np.floor(beg_wn), np.ceil(end_wn)))\n",
    "full_spectral_ranges = np.array(full_spectral_ranges)"
   ]
  },
  {
   "cell_type": "code",
   "execution_count": 5,
   "metadata": {},
   "outputs": [],
   "source": [
    "# Compute spacing at all points +/- spacing to figure out a good average resolution in cm^-1\n",
    "def determine_wn_spacing(wl_ranges, wl_res):\n",
    "    wn_spacing = []\n",
    "    \n",
    "    for wl_beg, wl_end in wl_ranges:\n",
    "        # Sample at twice the resolution\n",
    "        wl_grid = np.arange(wl_beg, wl_end, wl_res*2)\n",
    "        wn_diff = 1e7/wl_grid[:-1] - 1e7/wl_grid[1:]\n",
    "        \n",
    "        band_spacing = np.mean(wn_diff) * 1e-2\n",
    "        \n",
    "        decimal_places = int(f'{band_spacing:e}'.split('e')[-1])\n",
    "\n",
    "        # Round up to next decimal place\n",
    "        wn_spacing.append(np.round(band_spacing, -decimal_places-1))\n",
    "\n",
    "    return wn_spacing"
   ]
  },
  {
   "cell_type": "code",
   "execution_count": 6,
   "metadata": {},
   "outputs": [
    {
     "name": "stdout",
     "output_type": "stream",
     "text": [
      "Using predefined wavenumber spacing: [0.01]\n"
     ]
    }
   ],
   "source": [
    "if not \"wn_spacing\" in locals():\n",
    "    high_res_spacing = determine_wn_spacing(wavelength_ranges, wl_resolution)\n",
    "    print(f\"Determined a wavenumber spacing of {wn_spacing} from wavelength resolution {wl_resolution:.4f}\")\n",
    "else:\n",
    "    print(f\"Using predefined wavenumber spacing: {wn_spacing}\")\n",
    "    high_res_spacing = np.array(wn_spacing)"
   ]
  },
  {
   "cell_type": "code",
   "execution_count": 7,
   "metadata": {},
   "outputs": [
    {
     "name": "stdout",
     "output_type": "stream",
     "text": [
      "LBLRTM Compuation resolution: ['7.8125000000e-05']\n"
     ]
    }
   ],
   "source": [
    "# Derermine resolution for LBLRTM computations\n",
    "# Want a lblres ~ 1.5e-4 or smaller\n",
    "# Must be a power of 2 relationship with output high resolution spacing\n",
    "power = np.ceil(np.log2(high_res_spacing / 1.5e-4)).astype(int)\n",
    "\n",
    "lblres = high_res_spacing / 2**power\n",
    "print(\"LBLRTM Compuation resolution:\", ['%0.10e' % r for r in lblres])"
   ]
  },
  {
   "cell_type": "code",
   "execution_count": 8,
   "metadata": {},
   "outputs": [],
   "source": [
    "# Check that by converting the resolutions to string that when reinterpreted by the config\n",
    "# the same power of 2 relationship holds\n",
    "# Ratio must be a power of 2, check that string formatting is sufficient# \n",
    "hr_format = \"{:0.10e}\"\n",
    "lr_format = \"{:0.10e}\"\n",
    "\n",
    "hr_back_convert = np.array(['%0.10e' % r for r in high_res_spacing]).astype(float)\n",
    "lr_back_convert = np.array(['%0.10e' % r for r in lblres]).astype(float)\n",
    "calc_power = np.log2(hr_back_convert / lr_back_convert)\n",
    "\n",
    "for op, cp in zip(power, calc_power):\n",
    "    assert(op == cp)"
   ]
  },
  {
   "cell_type": "markdown",
   "metadata": {},
   "source": [
    "## Create Modified Config"
   ]
  },
  {
   "cell_type": "code",
   "execution_count": 9,
   "metadata": {},
   "outputs": [],
   "source": [
    "# Read ABSCO configuration from repository as template\n",
    "# It will have the paths to the ABSCO executables filled in after the build_models.py script has been run\n",
    "config = ConfigParser()\n",
    "config.read(source_config_filename);"
   ]
  },
  {
   "cell_type": "code",
   "execution_count": 10,
   "metadata": {},
   "outputs": [],
   "source": [
    "# Break spectral ranges into beginning and ending portions for config writing\n",
    "wn1 = []\n",
    "wn2 = []\n",
    "for i, (beg, end) in enumerate(full_spectral_ranges):\n",
    "    wn1.append(beg)\n",
    "    wn2.append(end)"
   ]
  },
  {
   "cell_type": "code",
   "execution_count": 11,
   "metadata": {},
   "outputs": [],
   "source": [
    "# Modify config values converting our determined numbers into strings properly representing the numbers chosen\n",
    "config['channels']['wn1'] = \" \".join([ \"{:.4f}\".format(v) for v in wn1 ])\n",
    "config['channels']['wn2'] = \" \".join([ \"{:.4f}\".format(v) for v in wn2 ])\n",
    "config['channels']['lblres'] = \" \".join([ hr_format.format(r) for r in lblres])\n",
    "config['channels']['outres'] = \" \".join([ lr_format.format(r) for r in high_res_spacing])\n",
    "\n",
    "config['molecules']['molnames'] = \" \".join([ m.lower() for m in molecules])"
   ]
  },
  {
   "cell_type": "code",
   "execution_count": 12,
   "metadata": {},
   "outputs": [
    {
     "name": "stdout",
     "output_type": "stream",
     "text": [
      "Modifications made to ABSCO configuration:\n",
      "\n",
      "wn1 = 4166.0000\n",
      "wn2 = 4358.0000\n",
      "lblres = 7.8125000000e-05\n",
      "outres = 1.0000000000e-02\n",
      "molecules = ch4 co h2o\n"
     ]
    }
   ],
   "source": [
    "# Print out what has been modified in the new config file\n",
    "print(\"Modifications made to ABSCO configuration:\\n\")\n",
    "print(\"wn1 =\", config['channels']['wn1'])\n",
    "print(\"wn2 =\", config['channels']['wn2'])\n",
    "print(\"lblres =\", config['channels']['lblres'])\n",
    "print(\"outres =\", config['channels']['outres'])\n",
    "print(\"molecules =\", config['molecules']['molnames'])"
   ]
  },
  {
   "cell_type": "code",
   "execution_count": 13,
   "metadata": {},
   "outputs": [
    {
     "name": "stdout",
     "output_type": "stream",
     "text": [
      "Wrote new config file: /tmp/absco_build/tropomi/ABSCO_config.ini\n"
     ]
    }
   ],
   "source": [
    "output_config_filename = os.path.join(config_output_directory, os.path.basename(source_config_filename))\n",
    "\n",
    "if not os.path.exists(config_output_directory):\n",
    "    os.makedirs(config_output_directory)\n",
    "\n",
    "with open(output_config_filename, \"w\") as out_file:\n",
    "    config.write(out_file)\n",
    "    \n",
    "print(\"Wrote new config file:\", output_config_filename)"
   ]
  }
 ],
 "metadata": {
  "kernelspec": {
   "display_name": "Python 3 (ipykernel)",
   "language": "python",
   "name": "python3"
  },
  "language_info": {
   "codemirror_mode": {
    "name": "ipython",
    "version": 3
   },
   "file_extension": ".py",
   "mimetype": "text/x-python",
   "name": "python",
   "nbconvert_exporter": "python",
   "pygments_lexer": "ipython3",
   "version": "3.8.13"
  }
 },
 "nbformat": 4,
 "nbformat_minor": 2
}
